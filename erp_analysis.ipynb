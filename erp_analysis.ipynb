{
 "cells": [
  {
   "cell_type": "markdown",
   "metadata": {},
   "source": [
    "# Importations"
   ]
  },
  {
   "cell_type": "code",
   "execution_count": 49,
   "metadata": {},
   "outputs": [],
   "source": [
    "import mne\n",
    "from load_xdf import data_path, event_id\n",
    "import os\n",
    "import matplotlib.pyplot as plt\n",
    "from pathlib import Path\n",
    "import pandas as pd\n",
    "import numpy as np\n",
    "\n",
    "# Load the EEG data\n",
    "## find fif files\n",
    "fif_files = []\n",
    "for dirpath, dirnames, filenames in os.walk(data_path):\n",
    "    fif_files += [Path(dirpath) / Path(f) for f in filenames if f.endswith('.fif')]\n",
    "fif_files\n",
    "if fif_files == []:\n",
    "    raise ValueError('No fif files found in the data folder')"
   ]
  },
  {
   "cell_type": "code",
   "execution_count": 50,
   "metadata": {},
   "outputs": [
    {
     "data": {
      "text/plain": [
       "[WindowsPath('D:/pro/emile_final_bci_preprocessed.fif'),\n",
       " WindowsPath('D:/pro/BCI_ERN/9FH/P9FH_RobH_preprocessed.fif'),\n",
       " WindowsPath('D:/pro/BCI_ERN/GV5/PGV5_RobH_1_preprocessed.fif')]"
      ]
     },
     "execution_count": 50,
     "metadata": {},
     "output_type": "execute_result"
    }
   ],
   "source": [
    "fif_files"
   ]
  },
  {
   "cell_type": "code",
   "execution_count": 51,
   "metadata": {},
   "outputs": [],
   "source": [
    "file_name = Path(fif_files[1])"
   ]
  },
  {
   "cell_type": "code",
   "execution_count": 52,
   "metadata": {},
   "outputs": [
    {
     "name": "stdout",
     "output_type": "stream",
     "text": [
      "Opening raw data file D:\\pro\\BCI_ERN\\9FH\\P9FH_RobH_preprocessed.fif...\n",
      "    Range : 0 ... 95111 =      0.000 ...   185.764 secs\n",
      "Ready.\n"
     ]
    },
    {
     "name": "stderr",
     "output_type": "stream",
     "text": [
      "C:\\Users\\Emile\\AppData\\Local\\Temp\\ipykernel_12988\\2410653212.py:1: RuntimeWarning: This filename (D:\\pro\\BCI_ERN\\9FH\\P9FH_RobH_preprocessed.fif) does not conform to MNE naming conventions. All raw files should end with raw.fif, raw_sss.fif, raw_tsss.fif, _meg.fif, _eeg.fif, _ieeg.fif, raw.fif.gz, raw_sss.fif.gz, raw_tsss.fif.gz, _meg.fif.gz, _eeg.fif.gz or _ieeg.fif.gz\n",
      "  raw = mne.io.read_raw(data_path / file_name)\n"
     ]
    }
   ],
   "source": [
    "raw = mne.io.read_raw(data_path / file_name)"
   ]
  },
  {
   "cell_type": "code",
   "execution_count": 57,
   "metadata": {},
   "outputs": [
    {
     "name": "stdout",
     "output_type": "stream",
     "text": [
      "Channels marked as bad:\n",
      "none\n"
     ]
    }
   ],
   "source": [
    "%matplotlib qt\n",
    "raw.plot(scalings=dict(eeg=80e-6))\n",
    "plt.show()"
   ]
  },
  {
   "cell_type": "code",
   "execution_count": 23,
   "metadata": {},
   "outputs": [],
   "source": [
    "raw.get_montage().plot(show_names=True)\n",
    "plt.show()"
   ]
  },
  {
   "cell_type": "markdown",
   "metadata": {},
   "source": [
    "# ERP Analysis"
   ]
  },
  {
   "cell_type": "code",
   "execution_count": 54,
   "metadata": {},
   "outputs": [
    {
     "name": "stdout",
     "output_type": "stream",
     "text": [
      "Trigger channel STI has a non-zero initial value of {initial_value} (consider using initial_event=True to detect this event)\n",
      "Removing orphaned offset at the beginning of the file.\n",
      "10 events found on stim channel STI\n",
      "Event IDs: [130 155 200 201 203]\n"
     ]
    },
    {
     "data": {
      "text/plain": [
       "{'left_good': 120,\n",
       " 'right_good': 122,\n",
       " 'left_bad': 150,\n",
       " 'right_bad': 155,\n",
       " 'no_response': 130,\n",
       " 'left': 140,\n",
       " 'right': 141,\n",
       " 'cross': 200,\n",
       " 'stim': 201,\n",
       " 'decision': 202,\n",
       " 'feedback': 203,\n",
       " 'rest': 204,\n",
       " 'imagery': 205,\n",
       " 'pause': 206}"
      ]
     },
     "execution_count": 54,
     "metadata": {},
     "output_type": "execute_result"
    }
   ],
   "source": [
    "# Remove ids that are not in the data\n",
    "events  = mne.find_events(raw, stim_channel='STI')\n",
    "event_id"
   ]
  },
  {
   "cell_type": "code",
   "execution_count": 55,
   "metadata": {},
   "outputs": [
    {
     "data": {
      "text/plain": [
       "{'right_bad': 155,\n",
       " 'no_response': 130,\n",
       " 'cross': 200,\n",
       " 'stim': 201,\n",
       " 'feedback': 203}"
      ]
     },
     "execution_count": 55,
     "metadata": {},
     "output_type": "execute_result"
    }
   ],
   "source": [
    "event_id = {k: v for k, v in event_id.items() if v in events[:, 2]}\n",
    "event_id"
   ]
  },
  {
   "cell_type": "code",
   "execution_count": 58,
   "metadata": {},
   "outputs": [],
   "source": [
    "# Extract events\n",
    "fig = mne.viz.plot_events(events, sfreq = raw.info['sfreq'], first_samp = raw.first_samp, event_id=event_id)\n",
    "plt.show()"
   ]
  },
  {
   "cell_type": "code",
   "execution_count": 27,
   "metadata": {},
   "outputs": [],
   "source": [
    "# Make metadata\n",
    "columns = ['response']\n",
    "metadata_df = pd.DataFrame(columns=columns)\n",
    "response = []\n",
    "for i in range(len(events)):\n",
    "    if events[i, 2] in [120, 122, 130, 150, 155]:\n",
    "        response.append(events[i, 2])\n",
    "metadata_df['response'] = response"
   ]
  },
  {
   "cell_type": "code",
   "execution_count": 39,
   "metadata": {},
   "outputs": [],
   "source": [
    "# Remove events trials that are not complete\n",
    "metadata_df = metadata_df[:-1]"
   ]
  },
  {
   "cell_type": "code",
   "execution_count": 40,
   "metadata": {},
   "outputs": [
    {
     "name": "stdout",
     "output_type": "stream",
     "text": [
      "Adding metadata with 1 columns\n",
      "36 matching events found\n",
      "Applying baseline correction (mode: mean)\n",
      "0 projection items activated\n",
      "Loading data for 36 events and 2049 original time points ...\n",
      "0 bad epochs dropped\n"
     ]
    }
   ],
   "source": [
    "# Create epochs\n",
    "event_id = {'feedback' : 203}\n",
    "event_of_interest = 203\n",
    "events = mne.pick_events(events, include=event_of_interest, exclude=None)\n",
    "epochs = mne.Epochs(raw, events, event_id, tmin= -3, tmax= 1., preload=True, metadata=metadata_df, baseline = (-.3,-.1))"
   ]
  },
  {
   "cell_type": "code",
   "execution_count": 42,
   "metadata": {},
   "outputs": [
    {
     "name": "stdout",
     "output_type": "stream",
     "text": [
      "Dropped 0 epochs: \n",
      "The following epochs were marked as bad and are dropped:\n",
      "[]\n",
      "Channels marked as bad:\n",
      "['P9']\n"
     ]
    }
   ],
   "source": [
    "%matplotlib qt\n",
    "epochs.plot(n_epochs=10, n_channels=64)\n",
    "plt.show()"
   ]
  },
  {
   "cell_type": "code",
   "execution_count": 43,
   "metadata": {},
   "outputs": [
    {
     "name": "stdout",
     "output_type": "stream",
     "text": [
      "NOTE: pick_channels() is a legacy function. New code should use inst.pick(...).\n",
      "Not setting metadata\n",
      "30 matching events found\n",
      "Applying baseline correction (mode: mean)\n",
      "0 projection items activated\n",
      "Adding metadata with 1 columns\n",
      "Setting up band-pass filter from 1 - 40 Hz\n",
      "\n",
      "FIR filter parameters\n",
      "---------------------\n",
      "Designing a one-pass, zero-phase, non-causal bandpass filter:\n",
      "- Windowed time-domain design (firwin) method\n",
      "- Hamming window with 0.0194 passband ripple and 53 dB stopband attenuation\n",
      "- Lower passband edge: 1.00\n",
      "- Lower transition bandwidth: 1.00 Hz (-6 dB cutoff frequency: 0.50 Hz)\n",
      "- Upper passband edge: 40.00 Hz\n",
      "- Upper transition bandwidth: 10.00 Hz (-6 dB cutoff frequency: 45.00 Hz)\n",
      "- Filter length: 1691 samples (3.303 s)\n",
      "\n",
      "Applying baseline correction (mode: mean)\n"
     ]
    },
    {
     "name": "stderr",
     "output_type": "stream",
     "text": [
      "C:\\Users\\Emile\\AppData\\Local\\Temp\\ipykernel_12988\\1885067324.py:2: FutureWarning: The default for pick_channels will change from ordered=False to ordered=True in 1.5 and this will result in a change of behavior because the resulting channel order will not match. Either use a channel order that matches your instance or pass ordered=False.\n",
      "  epochs = epochs.pick_channels(ChOI)\n",
      "[Parallel(n_jobs=1)]: Done  17 tasks      | elapsed:    0.0s\n"
     ]
    },
    {
     "data": {
      "text/html": [
       "<table class=\"table table-hover table-striped table-sm table-responsive small\">\n",
       "    <tr>\n",
       "        <th>Number of events</th>\n",
       "        <td>30</td>\n",
       "    </tr>\n",
       "    <tr>\n",
       "        <th>Events</th>\n",
       "        \n",
       "        <td>feedback: 30</td>\n",
       "        \n",
       "    </tr>\n",
       "    <tr>\n",
       "        <th>Time range</th>\n",
       "        <td>-3.000 – 1.000 s</td>\n",
       "    </tr>\n",
       "    <tr>\n",
       "        <th>Baseline</th>\n",
       "        <td>-0.500 – -0.100 s</td>\n",
       "    </tr>\n",
       "</table>"
      ],
      "text/plain": [
       "<EpochsArray |  30 events (all good), -3 – 1 s, baseline -0.5 – -0.1 s, ~486 kB, data loaded, with metadata,\n",
       " 'feedback': 30>"
      ]
     },
     "execution_count": 43,
     "metadata": {},
     "output_type": "execute_result"
    }
   ],
   "source": [
    "ChOI = ['FCz', 'Cz','Fz', 'FC1', 'FC2'] # channel of interest\n",
    "epochs = epochs.pick_channels(ChOI)\n",
    "epochs = mne.channels.combine_channels(epochs, dict(Avg=list(range(len(epochs.ch_names)))))\n",
    "epochs.filter(1,40)\n",
    "epochs.apply_baseline((-.5,-.1))"
   ]
  },
  {
   "cell_type": "code",
   "execution_count": 44,
   "metadata": {},
   "outputs": [
    {
     "name": "stdout",
     "output_type": "stream",
     "text": [
      "Dropped 0 epochs: \n",
      "The following epochs were marked as bad and are dropped:\n",
      "[]\n",
      "Channels marked as bad:\n",
      "none\n"
     ]
    }
   ],
   "source": [
    "%matplotlib qt\n",
    "epochs.plot(n_epochs=10)\n",
    "plt.show()  "
   ]
  },
  {
   "cell_type": "code",
   "execution_count": 45,
   "metadata": {},
   "outputs": [
    {
     "name": "stdout",
     "output_type": "stream",
     "text": [
      "Number of wrong feedback epochs:  24\n",
      "Number of correct feedback epochs:  6\n"
     ]
    }
   ],
   "source": [
    "wrong_feedback_epochs = epochs['response == 150 or response == 155 or response == 130']\n",
    "correct_feedback_epochs = epochs['response == 120 or response == 122']\n",
    "print('Number of wrong feedback epochs: ', len(wrong_feedback_epochs))\n",
    "print('Number of correct feedback epochs: ', len(correct_feedback_epochs))"
   ]
  },
  {
   "cell_type": "code",
   "execution_count": 46,
   "metadata": {},
   "outputs": [
    {
     "name": "stderr",
     "output_type": "stream",
     "text": [
      "C:\\Users\\Emile\\AppData\\Local\\Temp\\ipykernel_12988\\3379366221.py:4: RuntimeWarning: Cannot find channel coordinates in the supplied Evokeds. Not showing channel locations.\n",
      "  mne.viz.plot_compare_evokeds([wrong_feedback_epochs.average(), correct_feedback_epochs.average()], colors = ['red', 'blue'], show_sensors=True)\n"
     ]
    },
    {
     "data": {
      "image/png": "[encoded data removed]",
      "text/plain": [
       "<Figure size 800x600 with 1 Axes>"
      ]
     },
     "metadata": {},
     "output_type": "display_data"
    },
    {
     "data": {
      "text/plain": [
       "[<Figure size 800x600 with 1 Axes>]"
      ]
     },
     "execution_count": 46,
     "metadata": {},
     "output_type": "execute_result"
    }
   ],
   "source": [
    "\n",
    "wrong_feedback_epochs.crop(tmin=-0.1, tmax=1)\n",
    "correct_feedback_epochs.crop(tmin=-0.1, tmax=1)\n",
    "%matplotlib inline\n",
    "mne.viz.plot_compare_evokeds([wrong_feedback_epochs.average(), correct_feedback_epochs.average()], colors = ['red', 'blue'], show_sensors=True)"
   ]
  },
  {
   "cell_type": "code",
   "execution_count": 47,
   "metadata": {},
   "outputs": [
    {
     "name": "stdout",
     "output_type": "stream",
     "text": [
      "Need more than one channel to make topography for eeg. Disabling interactivity.\n"
     ]
    },
    {
     "data": {
      "image/png": "[encoded data removed]",
      "text/plain": [
       "<Figure size 640x300 with 1 Axes>"
      ]
     },
     "metadata": {},
     "output_type": "display_data"
    }
   ],
   "source": [
    "wrong_feedback_epochs.average().plot()\n",
    "plt.show()"
   ]
  },
  {
   "cell_type": "code",
   "execution_count": 48,
   "metadata": {},
   "outputs": [
    {
     "name": "stdout",
     "output_type": "stream",
     "text": [
      "Need more than one channel to make topography for eeg. Disabling interactivity.\n"
     ]
    },
    {
     "data": {
      "image/png": "[encoded data removed]",
      "text/plain": [
       "<Figure size 640x300 with 1 Axes>"
      ]
     },
     "metadata": {},
     "output_type": "display_data"
    }
   ],
   "source": [
    "correct_feedback_epochs.average().plot()\n",
    "plt.show()"
   ]
  },
  {
   "cell_type": "markdown",
   "metadata": {},
   "source": [
    "# Motor activity visualization"
   ]
  },
  {
   "cell_type": "code",
   "execution_count": 118,
   "metadata": {},
   "outputs": [],
   "source": [
    "# Make metadata\n",
    "columns = ['response']\n",
    "metadata_df = pd.DataFrame(columns=columns, index = None)\n",
    "response = []\n",
    "for i in range(len(events)):\n",
    "    if events[i, 2] == event_id['left']:\n",
    "        response.append('left')\n",
    "    elif events[i, 2] == event_id['right']:\n",
    "        response.append('right')\n",
    "    elif events[i, 2] == event_id['rest']:\n",
    "        response.append('rest')\n",
    "\n",
    "metadata_df['response'] = response"
   ]
  },
  {
   "cell_type": "code",
   "execution_count": 119,
   "metadata": {},
   "outputs": [
    {
     "name": "stdout",
     "output_type": "stream",
     "text": [
      "Adding metadata with 1 columns\n",
      "118 matching events found\n",
      "No baseline correction applied\n",
      "0 projection items activated\n",
      "Loading data for 118 events and 1281 original time points ...\n",
      "1 bad epochs dropped\n"
     ]
    }
   ],
   "source": [
    "# Create epochs\n",
    "event_id = {'left': 140, 'right': 141, 'rest': 204}\n",
    "event_of_interest = [140, 141, 204]\n",
    "events = mne.pick_events(events, include=event_of_interest, exclude=None)\n",
    "epochs = mne.Epochs(raw, events, event_id, tmin= -0.5, tmax= 2., preload=True, metadata=metadata_df, baseline = None)"
   ]
  },
  {
   "cell_type": "code",
   "execution_count": 120,
   "metadata": {},
   "outputs": [
    {
     "name": "stdout",
     "output_type": "stream",
     "text": [
      "Dropped 0 epochs: \n",
      "The following epochs were marked as bad and are dropped:\n",
      "[]\n",
      "Channels marked as bad:\n",
      "none\n"
     ]
    }
   ],
   "source": [
    "%matplotlib qt\n",
    "epochs.plot(n_epochs=10, n_channels=64)\n",
    "plt.show()"
   ]
  },
  {
   "cell_type": "code",
   "execution_count": 121,
   "metadata": {},
   "outputs": [
    {
     "data": {
      "text/html": [
       "<div>\n",
       "<style scoped>\n",
       "    .dataframe tbody tr th:only-of-type {\n",
       "        vertical-align: middle;\n",
       "    }\n",
       "\n",
       "    .dataframe tbody tr th {\n",
       "        vertical-align: top;\n",
       "    }\n",
       "\n",
       "    .dataframe thead th {\n",
       "        text-align: right;\n",
       "    }\n",
       "</style>\n",
       "<table border=\"1\" class=\"dataframe\">\n",
       "  <thead>\n",
       "    <tr style=\"text-align: right;\">\n",
       "      <th></th>\n",
       "      <th>response</th>\n",
       "    </tr>\n",
       "  </thead>\n",
       "  <tbody>\n",
       "    <tr>\n",
       "      <th>1</th>\n",
       "      <td>right</td>\n",
       "    </tr>\n",
       "    <tr>\n",
       "      <th>2</th>\n",
       "      <td>rest</td>\n",
       "    </tr>\n",
       "    <tr>\n",
       "      <th>3</th>\n",
       "      <td>right</td>\n",
       "    </tr>\n",
       "    <tr>\n",
       "      <th>4</th>\n",
       "      <td>rest</td>\n",
       "    </tr>\n",
       "    <tr>\n",
       "      <th>5</th>\n",
       "      <td>rest</td>\n",
       "    </tr>\n",
       "    <tr>\n",
       "      <th>...</th>\n",
       "      <td>...</td>\n",
       "    </tr>\n",
       "    <tr>\n",
       "      <th>113</th>\n",
       "      <td>left</td>\n",
       "    </tr>\n",
       "    <tr>\n",
       "      <th>114</th>\n",
       "      <td>rest</td>\n",
       "    </tr>\n",
       "    <tr>\n",
       "      <th>115</th>\n",
       "      <td>rest</td>\n",
       "    </tr>\n",
       "    <tr>\n",
       "      <th>116</th>\n",
       "      <td>left</td>\n",
       "    </tr>\n",
       "    <tr>\n",
       "      <th>117</th>\n",
       "      <td>rest</td>\n",
       "    </tr>\n",
       "  </tbody>\n",
       "</table>\n",
       "<p>117 rows × 1 columns</p>\n",
       "</div>"
      ],
      "text/plain": [
       "    response\n",
       "1      right\n",
       "2       rest\n",
       "3      right\n",
       "4       rest\n",
       "5       rest\n",
       "..       ...\n",
       "113     left\n",
       "114     rest\n",
       "115     rest\n",
       "116     left\n",
       "117     rest\n",
       "\n",
       "[117 rows x 1 columns]"
      ]
     },
     "execution_count": 121,
     "metadata": {},
     "output_type": "execute_result"
    }
   ],
   "source": [
    "epochs.metadata"
   ]
  },
  {
   "cell_type": "code",
   "execution_count": 133,
   "metadata": {},
   "outputs": [
    {
     "name": "stdout",
     "output_type": "stream",
     "text": [
      "Setting up band-pass filter from 8 - 30 Hz\n",
      "\n",
      "IIR filter parameters\n",
      "---------------------\n",
      "Butterworth bandpass zero-phase (two-pass forward and reverse) non-causal filter:\n",
      "- Filter order 16 (effective, after forward-backward)\n",
      "- Cutoffs at 8.00, 30.00 Hz: -6.02, -6.02 dB\n",
      "\n",
      "Applying baseline correction (mode: logratio)\n"
     ]
    },
    {
     "name": "stderr",
     "output_type": "stream",
     "text": [
      "C:\\Users\\Emile\\AppData\\Local\\Packages\\PythonSoftwareFoundation.Python.3.11_qbz5n2kfra8p0\\LocalCache\\local-packages\\Python311\\site-packages\\matplotlib\\cbook.py:298: RuntimeWarning: `mask` is None, not masking the plot ...\n",
      "  func(*args, **kwargs)\n",
      "C:\\Users\\Emile\\AppData\\Local\\Packages\\PythonSoftwareFoundation.Python.3.11_qbz5n2kfra8p0\\LocalCache\\local-packages\\Python311\\site-packages\\matplotlib\\cbook.py:298: RuntimeWarning: `mask` is None, not adding contour to the plot ...\n",
      "  func(*args, **kwargs)\n",
      "C:\\Users\\Emile\\AppData\\Local\\Packages\\PythonSoftwareFoundation.Python.3.11_qbz5n2kfra8p0\\LocalCache\\local-packages\\Python311\\site-packages\\matplotlib\\cbook.py:298: RuntimeWarning: `mask` is None, not masking the plot ...\n",
      "  func(*args, **kwargs)\n",
      "C:\\Users\\Emile\\AppData\\Local\\Packages\\PythonSoftwareFoundation.Python.3.11_qbz5n2kfra8p0\\LocalCache\\local-packages\\Python311\\site-packages\\matplotlib\\cbook.py:298: RuntimeWarning: `mask` is None, not adding contour to the plot ...\n",
      "  func(*args, **kwargs)\n",
      "C:\\Users\\Emile\\AppData\\Local\\Packages\\PythonSoftwareFoundation.Python.3.11_qbz5n2kfra8p0\\LocalCache\\local-packages\\Python311\\site-packages\\matplotlib\\cbook.py:298: RuntimeWarning: `mask` is None, not masking the plot ...\n",
      "  func(*args, **kwargs)\n",
      "C:\\Users\\Emile\\AppData\\Local\\Packages\\PythonSoftwareFoundation.Python.3.11_qbz5n2kfra8p0\\LocalCache\\local-packages\\Python311\\site-packages\\matplotlib\\cbook.py:298: RuntimeWarning: `mask` is None, not adding contour to the plot ...\n",
      "  func(*args, **kwargs)\n"
     ]
    }
   ],
   "source": [
    "# Vizualize mu and beta activity for different conditions on epochs\n",
    "freqs = [8, 13, 20, 30]\n",
    "\n",
    "epochs = epochs.filter(8, 30, method='iir', verbose=True)\n",
    "power = mne.time_frequency.tfr_multitaper(epochs, freqs=freqs, n_cycles=2, return_itc=False, decim=3, n_jobs=1)\n",
    "power.plot_topo(baseline=(-0.5, 0), mode='logratio', title='Average power')\n",
    "plt.show()"
   ]
  },
  {
   "cell_type": "code",
   "execution_count": 122,
   "metadata": {},
   "outputs": [
    {
     "name": "stdout",
     "output_type": "stream",
     "text": [
      "NOTE: pick_channels() is a legacy function. New code should use inst.pick(...).\n",
      "Subtracting Evoked from Epochs\n",
      "[done]\n",
      "Setting up band-pass filter from 8 - 12 Hz\n",
      "\n",
      "FIR filter parameters\n",
      "---------------------\n",
      "Designing a one-pass, zero-phase, non-causal bandpass filter:\n",
      "- Windowed time-domain design (firwin) method\n",
      "- Hamming window with 0.0194 passband ripple and 53 dB stopband attenuation\n",
      "- Lower passband edge: 8.00\n",
      "- Lower transition bandwidth: 2.00 Hz (-6 dB cutoff frequency: 7.00 Hz)\n",
      "- Upper passband edge: 12.00 Hz\n",
      "- Upper transition bandwidth: 3.00 Hz (-6 dB cutoff frequency: 13.50 Hz)\n",
      "- Filter length: 845 samples (1.650 s)\n",
      "\n"
     ]
    },
    {
     "name": "stderr",
     "output_type": "stream",
     "text": [
      "C:\\Users\\Emile\\AppData\\Local\\Temp\\ipykernel_23016\\4105285667.py:7: FutureWarning: The default for pick_channels will change from ordered=False to ordered=True in 1.5 and this will result in a change of behavior because the resulting channel order will not match. Either use a channel order that matches your instance or pass ordered=False.\n",
      "  band_epochs = epochs.pick_channels(selected_channels)\n",
      "[Parallel(n_jobs=1)]: Done  17 tasks      | elapsed:    0.0s\n",
      "[Parallel(n_jobs=1)]: Done  71 tasks      | elapsed:    0.0s\n",
      "[Parallel(n_jobs=1)]: Done 161 tasks      | elapsed:    0.0s\n",
      "[Parallel(n_jobs=1)]: Done 287 tasks      | elapsed:    0.0s\n",
      "[Parallel(n_jobs=1)]: Done 449 tasks      | elapsed:    0.0s\n",
      "[Parallel(n_jobs=1)]: Done 647 tasks      | elapsed:    0.0s\n",
      "[Parallel(n_jobs=1)]: Done 881 tasks      | elapsed:    0.0s\n",
      "[Parallel(n_jobs=1)]: Done 1151 tasks      | elapsed:    0.0s\n"
     ]
    },
    {
     "name": "stdout",
     "output_type": "stream",
     "text": [
      "NOTE: pick_channels() is a legacy function. New code should use inst.pick(...).\n",
      "Subtracting Evoked from Epochs\n",
      "[done]\n",
      "Setting up band-pass filter from 13 - 30 Hz\n",
      "\n",
      "FIR filter parameters\n",
      "---------------------\n",
      "Designing a one-pass, zero-phase, non-causal bandpass filter:\n",
      "- Windowed time-domain design (firwin) method\n",
      "- Hamming window with 0.0194 passband ripple and 53 dB stopband attenuation\n",
      "- Lower passband edge: 13.00\n",
      "- Lower transition bandwidth: 3.25 Hz (-6 dB cutoff frequency: 11.38 Hz)\n",
      "- Upper passband edge: 30.00 Hz\n",
      "- Upper transition bandwidth: 7.50 Hz (-6 dB cutoff frequency: 33.75 Hz)\n",
      "- Filter length: 521 samples (1.018 s)\n",
      "\n"
     ]
    },
    {
     "name": "stderr",
     "output_type": "stream",
     "text": [
      "[Parallel(n_jobs=1)]: Done 1457 tasks      | elapsed:    0.1s\n",
      "C:\\Users\\Emile\\AppData\\Local\\Temp\\ipykernel_23016\\4105285667.py:7: FutureWarning: The default for pick_channels will change from ordered=False to ordered=True in 1.5 and this will result in a change of behavior because the resulting channel order will not match. Either use a channel order that matches your instance or pass ordered=False.\n",
      "  band_epochs = epochs.pick_channels(selected_channels)\n",
      "[Parallel(n_jobs=1)]: Done  17 tasks      | elapsed:    0.0s\n",
      "[Parallel(n_jobs=1)]: Done  71 tasks      | elapsed:    0.0s\n",
      "[Parallel(n_jobs=1)]: Done 161 tasks      | elapsed:    0.0s\n",
      "[Parallel(n_jobs=1)]: Done 287 tasks      | elapsed:    0.0s\n",
      "[Parallel(n_jobs=1)]: Done 449 tasks      | elapsed:    0.0s\n",
      "[Parallel(n_jobs=1)]: Done 647 tasks      | elapsed:    0.0s\n",
      "[Parallel(n_jobs=1)]: Done 881 tasks      | elapsed:    0.0s\n",
      "[Parallel(n_jobs=1)]: Done 1151 tasks      | elapsed:    0.0s\n",
      "[Parallel(n_jobs=1)]: Done 1457 tasks      | elapsed:    0.1s\n"
     ]
    }
   ],
   "source": [
    "# Vizualize mu and beta activity\n",
    "freqs = [(\"mu\", 8, 12), (\"beta\", 13, 30)]\n",
    "frequency_map = []\n",
    "selected_channels = ['C3','C1','C2','C4','Cz','FC3','FC1','FC2' ,'FC4','FCz','CP3','CP1','CP2','CP4','CPz']\n",
    "for band, fmin, fmax in freqs:\n",
    "    # restrict the epochs to the given channels\n",
    "    band_epochs = epochs.pick_channels(selected_channels)\n",
    "    band_epochs.subtract_evoked()\n",
    "    band_epochs = epochs.filter(fmin, fmax, fir_design='firwin')\n",
    "    band_epochs.apply_hilbert(envelope=True)\n",
    "\n",
    "    for cond in event_id.keys():\n",
    "        frequency_map.append(((band, fmin, fmax), cond, band_epochs[f'response == \"{cond}\"'].average()))"
   ]
  },
  {
   "cell_type": "code",
   "execution_count": 123,
   "metadata": {},
   "outputs": [
    {
     "data": {
      "text/plain": [
       "[(('mu', 8, 12),\n",
       "  'left',\n",
       "  <Evoked | 'left' (average, N=20), -0.5 – 2 s, baseline off, 15 ch, ~192 kB>),\n",
       " (('mu', 8, 12),\n",
       "  'right',\n",
       "  <Evoked | 'right' (average, N=20), -0.5 – 2 s, baseline off, 15 ch, ~192 kB>),\n",
       " (('mu', 8, 12),\n",
       "  'rest',\n",
       "  <Evoked | 'rest' (average, N=77), -0.5 – 2 s, baseline off, 15 ch, ~192 kB>),\n",
       " (('beta', 13, 30),\n",
       "  'left',\n",
       "  <Evoked | 'left' (average, N=20), -0.5 – 2 s, baseline off, 15 ch, ~192 kB>),\n",
       " (('beta', 13, 30),\n",
       "  'right',\n",
       "  <Evoked | 'right' (average, N=20), -0.5 – 2 s, baseline off, 15 ch, ~192 kB>),\n",
       " (('beta', 13, 30),\n",
       "  'rest',\n",
       "  <Evoked | 'rest' (average, N=77), -0.5 – 2 s, baseline off, 15 ch, ~192 kB>)]"
      ]
     },
     "execution_count": 123,
     "metadata": {},
     "output_type": "execute_result"
    }
   ],
   "source": [
    "frequency_map"
   ]
  },
  {
   "cell_type": "code",
   "execution_count": 124,
   "metadata": {},
   "outputs": [
    {
     "name": "stdout",
     "output_type": "stream",
     "text": [
      "Applying baseline correction (mode: mean)\n",
      "Applying baseline correction (mode: mean)\n",
      "Applying baseline correction (mode: mean)\n",
      "Applying baseline correction (mode: mean)\n",
      "Applying baseline correction (mode: mean)\n",
      "Applying baseline correction (mode: mean)\n",
      "Applying baseline correction (mode: mean)\n",
      "Applying baseline correction (mode: mean)\n",
      "Applying baseline correction (mode: mean)\n",
      "Applying baseline correction (mode: mean)\n",
      "Applying baseline correction (mode: mean)\n",
      "Applying baseline correction (mode: mean)\n",
      "Applying baseline correction (mode: mean)\n",
      "Applying baseline correction (mode: mean)\n",
      "Applying baseline correction (mode: mean)\n",
      "Applying baseline correction (mode: mean)\n",
      "Applying baseline correction (mode: mean)\n",
      "Applying baseline correction (mode: mean)\n"
     ]
    },
    {
     "data": {
      "text/plain": [
       "Text(0.5, 0, 'Time [ms]')"
      ]
     },
     "execution_count": 124,
     "metadata": {},
     "output_type": "execute_result"
    }
   ],
   "source": [
    "from mne.baseline import rescale\n",
    "from mne.stats import bootstrap_confidence_interval\n",
    "\n",
    "# Helper function for plotting spread\n",
    "def stat_fun(x):\n",
    "    \"\"\"Return sum of squares.\"\"\"\n",
    "    return np.sum(x**2, axis=0)\n",
    "\n",
    "\n",
    "# Plot\n",
    "fig, axes = plt.subplots(2, 3, figsize=(10, 7), sharex=True, sharey=True)\n",
    "colors = plt.colormaps[\"winter_r\"](np.linspace(0, 1, len(frequency_map)))\n",
    "for ((freq_name, fmin, fmax), condition,  average), color, ax in zip(\n",
    "    frequency_map, colors, axes.ravel()[::-1]\n",
    "):\n",
    "    times = average.times * 1e3\n",
    "    gfp = np.sum(average.data**2, axis=0)\n",
    "    gfp = mne.baseline.rescale(gfp, times, baseline=(None, 0))\n",
    "    ax.plot(times, gfp, label=freq_name + ' ' + condition, color=color, linewidth=2.5)\n",
    "    ax.axhline(0, linestyle=\"--\", color=\"grey\", linewidth=2)\n",
    "    ci_low, ci_up = bootstrap_confidence_interval(\n",
    "        average.data, random_state=0, stat_fun=stat_fun\n",
    "    )\n",
    "    ci_low = rescale(ci_low, average.times, baseline=(None, 0))\n",
    "    ci_up = rescale(ci_up, average.times, baseline=(None, 0))\n",
    "    ax.fill_between(times, gfp + ci_up, gfp - ci_low, color=color, alpha=0.3)\n",
    "    ax.grid(True)\n",
    "    ax.set_ylabel(\"GFP\")\n",
    "    ax.annotate(\n",
    "        f\"{freq_name} ({fmin:d}-{fmax:d}Hz) {condition}\",\n",
    "        xy=(0.95, 0.8),\n",
    "        horizontalalignment=\"right\",\n",
    "        xycoords=\"axes fraction\",\n",
    "    )\n",
    "    ax.set_xlim(-500, 2000)\n",
    "\n",
    "axes.ravel()[-1].set_xlabel(\"Time [ms]\")"
   ]
  },
  {
   "cell_type": "code",
   "execution_count": 125,
   "metadata": {},
   "outputs": [
    {
     "name": "stdout",
     "output_type": "stream",
     "text": [
      "NOTE: plot_psd() is a legacy function. New code should use .compute_psd().plot().\n",
      "    Using multitaper spectrum estimation with 7 DPSS windows\n",
      "NOTE: plot_psd() is a legacy function. New code should use .compute_psd().plot().\n",
      "    Using multitaper spectrum estimation with 7 DPSS windows\n"
     ]
    }
   ],
   "source": [
    "\n"
   ]
  },
  {
   "cell_type": "code",
   "execution_count": null,
   "metadata": {},
   "outputs": [],
   "source": []
  }
 ],
 "metadata": {
  "kernelspec": {
   "display_name": "Python 3",
   "language": "python",
   "name": "python3"
  },
  "language_info": {
   "codemirror_mode": {
    "name": "ipython",
    "version": 3
   },
   "file_extension": ".py",
   "mimetype": "text/x-python",
   "name": "python",
   "nbconvert_exporter": "python",
   "pygments_lexer": "ipython3",
   "version": "3.11.9"
  }
 },
 "nbformat": 4,
 "nbformat_minor": 2
}
